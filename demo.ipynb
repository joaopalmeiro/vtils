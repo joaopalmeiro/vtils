{
 "cells": [
  {
   "cell_type": "markdown",
   "id": "stable-ozone",
   "metadata": {},
   "source": [
    "# Config"
   ]
  },
  {
   "cell_type": "code",
   "execution_count": null,
   "id": "accompanied-professional",
   "metadata": {},
   "outputs": [],
   "source": [
    "%load_ext autoreload\n",
    "%autoreload 2"
   ]
  },
  {
   "cell_type": "code",
   "execution_count": null,
   "id": "afraid-cartoon",
   "metadata": {},
   "outputs": [],
   "source": [
    "import vtils"
   ]
  },
  {
   "cell_type": "code",
   "execution_count": null,
   "id": "abroad-watts",
   "metadata": {},
   "outputs": [],
   "source": [
    "vtils.__version__"
   ]
  },
  {
   "cell_type": "markdown",
   "id": "informative-vegetation",
   "metadata": {},
   "source": [
    "# vtils"
   ]
  }
 ],
 "metadata": {
  "kernelspec": {
   "display_name": "Python 3",
   "language": "python",
   "name": "python3"
  },
  "language_info": {
   "codemirror_mode": {
    "name": "ipython",
    "version": 3
   },
   "file_extension": ".py",
   "mimetype": "text/x-python",
   "name": "python",
   "nbconvert_exporter": "python",
   "pygments_lexer": "ipython3",
   "version": "3.6.13"
  }
 },
 "nbformat": 4,
 "nbformat_minor": 5
}
