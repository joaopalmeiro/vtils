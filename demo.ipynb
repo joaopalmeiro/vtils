{
 "cells": [
  {
   "cell_type": "markdown",
   "id": "stable-ozone",
   "metadata": {},
   "source": [
    "# Config"
   ]
  },
  {
   "cell_type": "code",
   "execution_count": null,
   "id": "accompanied-professional",
   "metadata": {},
   "outputs": [],
   "source": [
    "%load_ext autoreload\n",
    "%autoreload 2"
   ]
  },
  {
   "cell_type": "code",
   "execution_count": null,
   "id": "afraid-cartoon",
   "metadata": {},
   "outputs": [],
   "source": [
    "import numpy as np\n",
    "\n",
    "from vtils import pae, utils"
   ]
  },
  {
   "cell_type": "code",
   "execution_count": null,
   "id": "abroad-watts",
   "metadata": {},
   "outputs": [],
   "source": [
    "vtils.__version__"
   ]
  },
  {
   "cell_type": "markdown",
   "id": "informative-vegetation",
   "metadata": {},
   "source": [
    "# vtils"
   ]
  },
  {
   "cell_type": "markdown",
   "id": "elder-hypothesis",
   "metadata": {},
   "source": [
    "## Pixel Approximate Entropy (PAE)"
   ]
  },
  {
   "cell_type": "code",
   "execution_count": null,
   "id": "figured-algebra",
   "metadata": {},
   "outputs": [],
   "source": [
    "x = np.linspace(0, 2, 300)\n",
    "y_linear = x * 0.5 - 0.5"
   ]
  },
  {
   "cell_type": "code",
   "execution_count": null,
   "id": "popular-nutrition",
   "metadata": {},
   "outputs": [],
   "source": [
    "utils.head(y_linear)"
   ]
  },
  {
   "cell_type": "code",
   "execution_count": null,
   "id": "african-daisy",
   "metadata": {},
   "outputs": [],
   "source": [
    "pae.ApproximateEntropy().compute(y_linear)"
   ]
  },
  {
   "cell_type": "markdown",
   "id": "encouraging-scholar",
   "metadata": {},
   "source": [
    "---"
   ]
  }
 ],
 "metadata": {
  "kernelspec": {
   "display_name": "Python 3",
   "language": "python",
   "name": "python3"
  },
  "language_info": {
   "codemirror_mode": {
    "name": "ipython",
    "version": 3
   },
   "file_extension": ".py",
   "mimetype": "text/x-python",
   "name": "python",
   "nbconvert_exporter": "python",
   "pygments_lexer": "ipython3",
   "version": "3.6.13"
  }
 },
 "nbformat": 4,
 "nbformat_minor": 5
}
